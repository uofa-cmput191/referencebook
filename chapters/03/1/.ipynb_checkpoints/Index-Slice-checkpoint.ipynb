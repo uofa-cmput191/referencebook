{
 "cells": [
  {
   "cell_type": "code",
   "execution_count": 6,
   "metadata": {
    "tags": [
     "remove-input"
    ]
   },
   "outputs": [],
   "source": [
    "import numpy as np\n",
    "np.set_printoptions(threshold=50)\n",
    "path_data = '../../../assets/data/'\n",
    "from datascience import *\n",
    "topmovies = Table.read_table(path_data + 'top_movies_2017.csv')"
   ]
  },
  {
   "cell_type": "markdown",
   "metadata": {},
   "source": [
    "<h2>Getting Started</h2>\n",
    "\n",
    "In each section of this chapter, we will work with the Top Movies dataset we introduced earlier.  We will pose a question, break the question down into high-level steps, and then translate each step into Python code using `datascience` Tables. And build our solution by demonstrating some useful `datascience` methods."
   ]
  },
  {
   "cell_type": "code",
   "execution_count": 7,
   "metadata": {},
   "outputs": [
    {
     "data": {
      "text/html": [
       "<table border=\"1\" class=\"dataframe\">\n",
       "    <thead>\n",
       "        <tr>\n",
       "            <th>Title</th> <th>Studio</th> <th>Gross</th> <th>Gross (Adjusted)</th> <th>Year</th>\n",
       "        </tr>\n",
       "    </thead>\n",
       "    <tbody>\n",
       "        <tr>\n",
       "            <td>Gone with the Wind              </td> <td>MGM            </td> <td>198676459</td> <td>1796176700      </td> <td>1939</td>\n",
       "        </tr>\n",
       "        <tr>\n",
       "            <td>Star Wars                       </td> <td>Fox            </td> <td>460998007</td> <td>1583483200      </td> <td>1977</td>\n",
       "        </tr>\n",
       "        <tr>\n",
       "            <td>The Sound of Music              </td> <td>Fox            </td> <td>158671368</td> <td>1266072700      </td> <td>1965</td>\n",
       "        </tr>\n",
       "        <tr>\n",
       "            <td>E.T.: The Extra-Terrestrial     </td> <td>Universal      </td> <td>435110554</td> <td>1261085000      </td> <td>1982</td>\n",
       "        </tr>\n",
       "        <tr>\n",
       "            <td>Titanic                         </td> <td>Paramount      </td> <td>658672302</td> <td>1204368000      </td> <td>1997</td>\n",
       "        </tr>\n",
       "        <tr>\n",
       "            <td>The Ten Commandments            </td> <td>Paramount      </td> <td>65500000 </td> <td>1164590000      </td> <td>1956</td>\n",
       "        </tr>\n",
       "        <tr>\n",
       "            <td>Jaws                            </td> <td>Universal      </td> <td>260000000</td> <td>1138620700      </td> <td>1975</td>\n",
       "        </tr>\n",
       "        <tr>\n",
       "            <td>Doctor Zhivago                  </td> <td>MGM            </td> <td>111721910</td> <td>1103564200      </td> <td>1965</td>\n",
       "        </tr>\n",
       "        <tr>\n",
       "            <td>The Exorcist                    </td> <td>Warner Brothers</td> <td>232906145</td> <td>983226600       </td> <td>1973</td>\n",
       "        </tr>\n",
       "        <tr>\n",
       "            <td>Snow White and the Seven Dwarves</td> <td>Disney         </td> <td>184925486</td> <td>969010000       </td> <td>1937</td>\n",
       "        </tr>\n",
       "    </tbody>\n",
       "</table>\n",
       "<p>... (190 rows omitted)</p>"
      ],
      "text/plain": [
       "Title                            | Studio          | Gross     | Gross (Adjusted) | Year\n",
       "Gone with the Wind               | MGM             | 198676459 | 1796176700       | 1939\n",
       "Star Wars                        | Fox             | 460998007 | 1583483200       | 1977\n",
       "The Sound of Music               | Fox             | 158671368 | 1266072700       | 1965\n",
       "E.T.: The Extra-Terrestrial      | Universal       | 435110554 | 1261085000       | 1982\n",
       "Titanic                          | Paramount       | 658672302 | 1204368000       | 1997\n",
       "The Ten Commandments             | Paramount       | 65500000  | 1164590000       | 1956\n",
       "Jaws                             | Universal       | 260000000 | 1138620700       | 1975\n",
       "Doctor Zhivago                   | MGM             | 111721910 | 1103564200       | 1965\n",
       "The Exorcist                     | Warner Brothers | 232906145 | 983226600        | 1973\n",
       "Snow White and the Seven Dwarves | Disney          | 184925486 | 969010000        | 1937\n",
       "... (190 rows omitted)"
      ]
     },
     "execution_count": 7,
     "metadata": {},
     "output_type": "execute_result"
    }
   ],
   "source": [
    "topmovies"
   ]
  },
  {
   "cell_type": "markdown",
   "metadata": {},
   "source": [
    "<h2>Selecting and Sorting</h2>\n",
    "\n",
    "Let's use `datascience` to answer the following question:\n",
    "\n",
    "**\"What were the five highest-gross movies in 2016?\"**\n",
    "\n",
    "<h3>Breaking the Problem Down</h3>\n",
    "\n",
    "We can decompose this question into the following simpler table manipulations:\n",
    "\n",
    "1. Chose set of relevant columns (i.e. 'Title', 'Year' and 'Gross').\n",
    "2. Select the rows for the year 2016.\n",
    "3. Sort the rows in descending order by Gross.\n",
    "4. Select the first five rows from the sorted Table.\n",
    "   \n",
    "Now, we can express these steps in Python programming."
   ]
  },
  {
   "cell_type": "markdown",
   "metadata": {},
   "source": [
    "<h2>Selecting</h2>\n",
    "\n",
    "All the tasks (except task 3) in our broken-down problems involve selecting a subset of data from the Table. Therefore, we will start discussing the selection first to approach the first two tasks.\n",
    "\n",
    "<h3>Accessing the Data in a Column</h3>\n",
    "\n",
    "We can use a column's label to access the array of data in the column."
   ]
  },
  {
   "cell_type": "code",
   "execution_count": 9,
   "metadata": {},
   "outputs": [
    {
     "data": {
      "text/plain": [
       "array(['Gone with the Wind', 'Star Wars', 'The Sound of Music', ...,\n",
       "       'The Firm', 'Suicide Squad', 'Who Framed Roger Rabbit'],\n",
       "      dtype='<U60')"
      ]
     },
     "execution_count": 9,
     "metadata": {},
     "output_type": "execute_result"
    }
   ],
   "source": [
    "topmovies.column('Title')"
   ]
  },
  {
   "cell_type": "markdown",
   "metadata": {},
   "source": [
    "The 5 columns are indexed 0, 1, 2, 3, and 4. The column `Title` can also be accessed by using its column index."
   ]
  },
  {
   "cell_type": "code",
   "execution_count": 10,
   "metadata": {},
   "outputs": [
    {
     "data": {
      "text/plain": [
       "array(['Gone with the Wind', 'Star Wars', 'The Sound of Music', ...,\n",
       "       'The Firm', 'Suicide Squad', 'Who Framed Roger Rabbit'],\n",
       "      dtype='<U60')"
      ]
     },
     "execution_count": 10,
     "metadata": {},
     "output_type": "execute_result"
    }
   ],
   "source": [
    "topmovies.column(0)"
   ]
  },
  {
   "cell_type": "markdown",
   "metadata": {},
   "source": [
    "The items in the array are indexed 0, 1, 2, and so on, up to 199. The items in the column can be accessed using `item`, as with any array."
   ]
  },
  {
   "cell_type": "code",
   "execution_count": 12,
   "metadata": {},
   "outputs": [
    {
     "data": {
      "text/plain": [
       "1956"
      ]
     },
     "execution_count": 12,
     "metadata": {},
     "output_type": "execute_result"
    }
   ],
   "source": [
    "topmovies.column(4).item(5)"
   ]
  },
  {
   "cell_type": "markdown",
   "metadata": {},
   "source": [
    "<h4>Working with the Data in a Column</h4>\n",
    "\n",
    "Because columns are arrays, we can use array operations on them to discover new information. For example, we can calculate 'Gross in Millions' from the gross."
   ]
  },
  {
   "cell_type": "code",
   "execution_count": 14,
   "metadata": {},
   "outputs": [
    {
     "data": {
      "text/html": [
       "<table border=\"1\" class=\"dataframe\">\n",
       "    <thead>\n",
       "        <tr>\n",
       "            <th>Title</th> <th>Studio</th> <th>Gross</th> <th>Gross (Adjusted)</th> <th>Year</th> <th>Gross in Millions</th>\n",
       "        </tr>\n",
       "    </thead>\n",
       "    <tbody>\n",
       "        <tr>\n",
       "            <td>Gone with the Wind              </td> <td>MGM            </td> <td>198676459</td> <td>1796176700      </td> <td>1939</td> <td>198.676          </td>\n",
       "        </tr>\n",
       "        <tr>\n",
       "            <td>Star Wars                       </td> <td>Fox            </td> <td>460998007</td> <td>1583483200      </td> <td>1977</td> <td>460.998          </td>\n",
       "        </tr>\n",
       "        <tr>\n",
       "            <td>The Sound of Music              </td> <td>Fox            </td> <td>158671368</td> <td>1266072700      </td> <td>1965</td> <td>158.671          </td>\n",
       "        </tr>\n",
       "        <tr>\n",
       "            <td>E.T.: The Extra-Terrestrial     </td> <td>Universal      </td> <td>435110554</td> <td>1261085000      </td> <td>1982</td> <td>435.111          </td>\n",
       "        </tr>\n",
       "        <tr>\n",
       "            <td>Titanic                         </td> <td>Paramount      </td> <td>658672302</td> <td>1204368000      </td> <td>1997</td> <td>658.672          </td>\n",
       "        </tr>\n",
       "        <tr>\n",
       "            <td>The Ten Commandments            </td> <td>Paramount      </td> <td>65500000 </td> <td>1164590000      </td> <td>1956</td> <td>65.5             </td>\n",
       "        </tr>\n",
       "        <tr>\n",
       "            <td>Jaws                            </td> <td>Universal      </td> <td>260000000</td> <td>1138620700      </td> <td>1975</td> <td>260              </td>\n",
       "        </tr>\n",
       "        <tr>\n",
       "            <td>Doctor Zhivago                  </td> <td>MGM            </td> <td>111721910</td> <td>1103564200      </td> <td>1965</td> <td>111.722          </td>\n",
       "        </tr>\n",
       "        <tr>\n",
       "            <td>The Exorcist                    </td> <td>Warner Brothers</td> <td>232906145</td> <td>983226600       </td> <td>1973</td> <td>232.906          </td>\n",
       "        </tr>\n",
       "        <tr>\n",
       "            <td>Snow White and the Seven Dwarves</td> <td>Disney         </td> <td>184925486</td> <td>969010000       </td> <td>1937</td> <td>184.925          </td>\n",
       "        </tr>\n",
       "    </tbody>\n",
       "</table>\n",
       "<p>... (190 rows omitted)</p>"
      ],
      "text/plain": [
       "Title                            | Studio          | Gross     | Gross (Adjusted) | Year | Gross in Millions\n",
       "Gone with the Wind               | MGM             | 198676459 | 1796176700       | 1939 | 198.676\n",
       "Star Wars                        | Fox             | 460998007 | 1583483200       | 1977 | 460.998\n",
       "The Sound of Music               | Fox             | 158671368 | 1266072700       | 1965 | 158.671\n",
       "E.T.: The Extra-Terrestrial      | Universal       | 435110554 | 1261085000       | 1982 | 435.111\n",
       "Titanic                          | Paramount       | 658672302 | 1204368000       | 1997 | 658.672\n",
       "The Ten Commandments             | Paramount       | 65500000  | 1164590000       | 1956 | 65.5\n",
       "Jaws                             | Universal       | 260000000 | 1138620700       | 1975 | 260\n",
       "Doctor Zhivago                   | MGM             | 111721910 | 1103564200       | 1965 | 111.722\n",
       "The Exorcist                     | Warner Brothers | 232906145 | 983226600        | 1973 | 232.906\n",
       "Snow White and the Seven Dwarves | Disney          | 184925486 | 969010000        | 1937 | 184.925\n",
       "... (190 rows omitted)"
      ]
     },
     "execution_count": 14,
     "metadata": {},
     "output_type": "execute_result"
    }
   ],
   "source": [
    "topmovies = topmovies.with_columns(\n",
    "    'Gross in Millions', topmovies.column('Gross')/1000000\n",
    ")\n",
    "topmovies"
   ]
  },
  {
   "cell_type": "markdown",
   "metadata": {},
   "source": [
    "To make the proportions in the new columns appear as currency, we can use the method `set_format` with the option `CurrencyFormatter`. The `set_format` method takes `Formatter` objects, which exist for dates (`DateFormatter`), percent (`PercentFormatter`), numbers, and curriecies."
   ]
  },
  {
   "cell_type": "code",
   "execution_count": 15,
   "metadata": {},
   "outputs": [
    {
     "data": {
      "text/html": [
       "<table border=\"1\" class=\"dataframe\">\n",
       "    <thead>\n",
       "        <tr>\n",
       "            <th>Title</th> <th>Studio</th> <th>Gross</th> <th>Gross (Adjusted)</th> <th>Year</th> <th>Gross in Millions</th>\n",
       "        </tr>\n",
       "    </thead>\n",
       "    <tbody>\n",
       "        <tr>\n",
       "            <td>Gone with the Wind              </td> <td>MGM            </td> <td>198676459</td> <td>1796176700      </td> <td>1939</td> <td>BZ$198.68        </td>\n",
       "        </tr>\n",
       "        <tr>\n",
       "            <td>Star Wars                       </td> <td>Fox            </td> <td>460998007</td> <td>1583483200      </td> <td>1977</td> <td>BZ$461.00        </td>\n",
       "        </tr>\n",
       "        <tr>\n",
       "            <td>The Sound of Music              </td> <td>Fox            </td> <td>158671368</td> <td>1266072700      </td> <td>1965</td> <td>BZ$158.67        </td>\n",
       "        </tr>\n",
       "        <tr>\n",
       "            <td>E.T.: The Extra-Terrestrial     </td> <td>Universal      </td> <td>435110554</td> <td>1261085000      </td> <td>1982</td> <td>BZ$435.11        </td>\n",
       "        </tr>\n",
       "        <tr>\n",
       "            <td>Titanic                         </td> <td>Paramount      </td> <td>658672302</td> <td>1204368000      </td> <td>1997</td> <td>BZ$658.67        </td>\n",
       "        </tr>\n",
       "        <tr>\n",
       "            <td>The Ten Commandments            </td> <td>Paramount      </td> <td>65500000 </td> <td>1164590000      </td> <td>1956</td> <td>BZ$65.50         </td>\n",
       "        </tr>\n",
       "        <tr>\n",
       "            <td>Jaws                            </td> <td>Universal      </td> <td>260000000</td> <td>1138620700      </td> <td>1975</td> <td>BZ$260.00        </td>\n",
       "        </tr>\n",
       "        <tr>\n",
       "            <td>Doctor Zhivago                  </td> <td>MGM            </td> <td>111721910</td> <td>1103564200      </td> <td>1965</td> <td>BZ$111.72        </td>\n",
       "        </tr>\n",
       "        <tr>\n",
       "            <td>The Exorcist                    </td> <td>Warner Brothers</td> <td>232906145</td> <td>983226600       </td> <td>1973</td> <td>BZ$232.91        </td>\n",
       "        </tr>\n",
       "        <tr>\n",
       "            <td>Snow White and the Seven Dwarves</td> <td>Disney         </td> <td>184925486</td> <td>969010000       </td> <td>1937</td> <td>BZ$184.93        </td>\n",
       "        </tr>\n",
       "    </tbody>\n",
       "</table>\n",
       "<p>... (190 rows omitted)</p>"
      ],
      "text/plain": [
       "Title                            | Studio          | Gross     | Gross (Adjusted) | Year | Gross in Millions\n",
       "Gone with the Wind               | MGM             | 198676459 | 1796176700       | 1939 | BZ$198.68\n",
       "Star Wars                        | Fox             | 460998007 | 1583483200       | 1977 | BZ$461.00\n",
       "The Sound of Music               | Fox             | 158671368 | 1266072700       | 1965 | BZ$158.67\n",
       "E.T.: The Extra-Terrestrial      | Universal       | 435110554 | 1261085000       | 1982 | BZ$435.11\n",
       "Titanic                          | Paramount       | 658672302 | 1204368000       | 1997 | BZ$658.67\n",
       "The Ten Commandments             | Paramount       | 65500000  | 1164590000       | 1956 | BZ$65.50\n",
       "Jaws                             | Universal       | 260000000 | 1138620700       | 1975 | BZ$260.00\n",
       "Doctor Zhivago                   | MGM             | 111721910 | 1103564200       | 1965 | BZ$111.72\n",
       "The Exorcist                     | Warner Brothers | 232906145 | 983226600        | 1973 | BZ$232.91\n",
       "Snow White and the Seven Dwarves | Disney          | 184925486 | 969010000        | 1937 | BZ$184.93\n",
       "... (190 rows omitted)"
      ]
     },
     "execution_count": 15,
     "metadata": {},
     "output_type": "execute_result"
    }
   ],
   "source": [
    "topmovies.set_format('Gross in Millions', CurrencyFormatter(\"$\"))"
   ]
  },
  {
   "cell_type": "markdown",
   "metadata": {},
   "source": [
    "<h3>Selecting Columns</h3>\n",
    "\n",
    "The method `select` creates a new table that contains only the specified columns."
   ]
  },
  {
   "cell_type": "markdown",
   "metadata": {},
   "source": [
    "The result of using `select` is a new table, even when you select just one column."
   ]
  },
  {
   "cell_type": "code",
   "execution_count": 34,
   "metadata": {},
   "outputs": [
    {
     "data": {
      "text/html": [
       "<table border=\"1\" class=\"dataframe\">\n",
       "    <thead>\n",
       "        <tr>\n",
       "            <th>Title</th>\n",
       "        </tr>\n",
       "    </thead>\n",
       "    <tbody>\n",
       "        <tr>\n",
       "            <td>Gone with the Wind              </td>\n",
       "        </tr>\n",
       "        <tr>\n",
       "            <td>Star Wars                       </td>\n",
       "        </tr>\n",
       "        <tr>\n",
       "            <td>The Sound of Music              </td>\n",
       "        </tr>\n",
       "        <tr>\n",
       "            <td>E.T.: The Extra-Terrestrial     </td>\n",
       "        </tr>\n",
       "        <tr>\n",
       "            <td>Titanic                         </td>\n",
       "        </tr>\n",
       "        <tr>\n",
       "            <td>The Ten Commandments            </td>\n",
       "        </tr>\n",
       "        <tr>\n",
       "            <td>Jaws                            </td>\n",
       "        </tr>\n",
       "        <tr>\n",
       "            <td>Doctor Zhivago                  </td>\n",
       "        </tr>\n",
       "        <tr>\n",
       "            <td>The Exorcist                    </td>\n",
       "        </tr>\n",
       "        <tr>\n",
       "            <td>Snow White and the Seven Dwarves</td>\n",
       "        </tr>\n",
       "    </tbody>\n",
       "</table>\n",
       "<p>... (190 rows omitted)</p>"
      ],
      "text/plain": [
       "Title\n",
       "Gone with the Wind\n",
       "Star Wars\n",
       "The Sound of Music\n",
       "E.T.: The Extra-Terrestrial\n",
       "Titanic\n",
       "The Ten Commandments\n",
       "Jaws\n",
       "Doctor Zhivago\n",
       "The Exorcist\n",
       "Snow White and the Seven Dwarves\n",
       "... (190 rows omitted)"
      ]
     },
     "execution_count": 34,
     "metadata": {},
     "output_type": "execute_result"
    }
   ],
   "source": [
    "topmovies.select('Title')"
   ]
  },
  {
   "cell_type": "code",
   "execution_count": 19,
   "metadata": {},
   "outputs": [
    {
     "data": {
      "text/plain": [
       "array(['Gone with the Wind', 'Star Wars', 'The Sound of Music', ...,\n",
       "       'The Firm', 'Suicide Squad', 'Who Framed Roger Rabbit'],\n",
       "      dtype='<U60')"
      ]
     },
     "execution_count": 19,
     "metadata": {},
     "output_type": "execute_result"
    }
   ],
   "source": [
    "topmovies.column('Title')"
   ]
  },
  {
   "cell_type": "markdown",
   "metadata": {},
   "source": [
    "Notice that the result is a table, unlike the result of `column`, which is an array."
   ]
  },
  {
   "cell_type": "markdown",
   "metadata": {},
   "source": [
    "We can select multiple columns as well."
   ]
  },
  {
   "cell_type": "code",
   "execution_count": 32,
   "metadata": {},
   "outputs": [
    {
     "data": {
      "text/html": [
       "<table border=\"1\" class=\"dataframe\">\n",
       "    <thead>\n",
       "        <tr>\n",
       "            <th>Title</th> <th>Year</th> <th>Gross</th>\n",
       "        </tr>\n",
       "    </thead>\n",
       "    <tbody>\n",
       "        <tr>\n",
       "            <td>Gone with the Wind              </td> <td>1939</td> <td>198676459</td>\n",
       "        </tr>\n",
       "        <tr>\n",
       "            <td>Star Wars                       </td> <td>1977</td> <td>460998007</td>\n",
       "        </tr>\n",
       "        <tr>\n",
       "            <td>The Sound of Music              </td> <td>1965</td> <td>158671368</td>\n",
       "        </tr>\n",
       "        <tr>\n",
       "            <td>E.T.: The Extra-Terrestrial     </td> <td>1982</td> <td>435110554</td>\n",
       "        </tr>\n",
       "        <tr>\n",
       "            <td>Titanic                         </td> <td>1997</td> <td>658672302</td>\n",
       "        </tr>\n",
       "        <tr>\n",
       "            <td>The Ten Commandments            </td> <td>1956</td> <td>65500000 </td>\n",
       "        </tr>\n",
       "        <tr>\n",
       "            <td>Jaws                            </td> <td>1975</td> <td>260000000</td>\n",
       "        </tr>\n",
       "        <tr>\n",
       "            <td>Doctor Zhivago                  </td> <td>1965</td> <td>111721910</td>\n",
       "        </tr>\n",
       "        <tr>\n",
       "            <td>The Exorcist                    </td> <td>1973</td> <td>232906145</td>\n",
       "        </tr>\n",
       "        <tr>\n",
       "            <td>Snow White and the Seven Dwarves</td> <td>1937</td> <td>184925486</td>\n",
       "        </tr>\n",
       "    </tbody>\n",
       "</table>\n",
       "<p>... (190 rows omitted)</p>"
      ],
      "text/plain": [
       "Title                            | Year | Gross\n",
       "Gone with the Wind               | 1939 | 198676459\n",
       "Star Wars                        | 1977 | 460998007\n",
       "The Sound of Music               | 1965 | 158671368\n",
       "E.T.: The Extra-Terrestrial      | 1982 | 435110554\n",
       "Titanic                          | 1997 | 658672302\n",
       "The Ten Commandments             | 1956 | 65500000\n",
       "Jaws                             | 1975 | 260000000\n",
       "Doctor Zhivago                   | 1965 | 111721910\n",
       "The Exorcist                     | 1973 | 232906145\n",
       "Snow White and the Seven Dwarves | 1937 | 184925486\n",
       "... (190 rows omitted)"
      ]
     },
     "execution_count": 32,
     "metadata": {},
     "output_type": "execute_result"
    }
   ],
   "source": [
    "topmovies.select('Title', 'Year','Gross')"
   ]
  },
  {
   "cell_type": "markdown",
   "metadata": {},
   "source": [
    "The same selection can be made using column indices instead of labels."
   ]
  },
  {
   "cell_type": "code",
   "execution_count": 33,
   "metadata": {},
   "outputs": [
    {
     "data": {
      "text/html": [
       "<table border=\"1\" class=\"dataframe\">\n",
       "    <thead>\n",
       "        <tr>\n",
       "            <th>Title</th> <th>Gross</th> <th>Year</th>\n",
       "        </tr>\n",
       "    </thead>\n",
       "    <tbody>\n",
       "        <tr>\n",
       "            <td>Gone with the Wind              </td> <td>198676459</td> <td>1939</td>\n",
       "        </tr>\n",
       "        <tr>\n",
       "            <td>Star Wars                       </td> <td>460998007</td> <td>1977</td>\n",
       "        </tr>\n",
       "        <tr>\n",
       "            <td>The Sound of Music              </td> <td>158671368</td> <td>1965</td>\n",
       "        </tr>\n",
       "        <tr>\n",
       "            <td>E.T.: The Extra-Terrestrial     </td> <td>435110554</td> <td>1982</td>\n",
       "        </tr>\n",
       "        <tr>\n",
       "            <td>Titanic                         </td> <td>658672302</td> <td>1997</td>\n",
       "        </tr>\n",
       "        <tr>\n",
       "            <td>The Ten Commandments            </td> <td>65500000 </td> <td>1956</td>\n",
       "        </tr>\n",
       "        <tr>\n",
       "            <td>Jaws                            </td> <td>260000000</td> <td>1975</td>\n",
       "        </tr>\n",
       "        <tr>\n",
       "            <td>Doctor Zhivago                  </td> <td>111721910</td> <td>1965</td>\n",
       "        </tr>\n",
       "        <tr>\n",
       "            <td>The Exorcist                    </td> <td>232906145</td> <td>1973</td>\n",
       "        </tr>\n",
       "        <tr>\n",
       "            <td>Snow White and the Seven Dwarves</td> <td>184925486</td> <td>1937</td>\n",
       "        </tr>\n",
       "    </tbody>\n",
       "</table>\n",
       "<p>... (190 rows omitted)</p>"
      ],
      "text/plain": [
       "Title                            | Gross     | Year\n",
       "Gone with the Wind               | 198676459 | 1939\n",
       "Star Wars                        | 460998007 | 1977\n",
       "The Sound of Music               | 158671368 | 1965\n",
       "E.T.: The Extra-Terrestrial      | 435110554 | 1982\n",
       "Titanic                          | 658672302 | 1997\n",
       "The Ten Commandments             | 65500000  | 1956\n",
       "Jaws                             | 260000000 | 1975\n",
       "Doctor Zhivago                   | 111721910 | 1965\n",
       "The Exorcist                     | 232906145 | 1973\n",
       "Snow White and the Seven Dwarves | 184925486 | 1937\n",
       "... (190 rows omitted)"
      ]
     },
     "execution_count": 33,
     "metadata": {},
     "output_type": "execute_result"
    }
   ],
   "source": [
    "topmovies.select(0, 2, 4)"
   ]
  },
  {
   "cell_type": "markdown",
   "metadata": {},
   "source": [
    "Another way to create a new table consisting of a set of columns is to `drop` the columns you don't want."
   ]
  },
  {
   "cell_type": "code",
   "execution_count": 36,
   "metadata": {},
   "outputs": [
    {
     "data": {
      "text/html": [
       "<table border=\"1\" class=\"dataframe\">\n",
       "    <thead>\n",
       "        <tr>\n",
       "            <th>Title</th> <th>Gross</th> <th>Year</th>\n",
       "        </tr>\n",
       "    </thead>\n",
       "    <tbody>\n",
       "        <tr>\n",
       "            <td>Gone with the Wind              </td> <td>198676459</td> <td>1939</td>\n",
       "        </tr>\n",
       "        <tr>\n",
       "            <td>Star Wars                       </td> <td>460998007</td> <td>1977</td>\n",
       "        </tr>\n",
       "        <tr>\n",
       "            <td>The Sound of Music              </td> <td>158671368</td> <td>1965</td>\n",
       "        </tr>\n",
       "        <tr>\n",
       "            <td>E.T.: The Extra-Terrestrial     </td> <td>435110554</td> <td>1982</td>\n",
       "        </tr>\n",
       "        <tr>\n",
       "            <td>Titanic                         </td> <td>658672302</td> <td>1997</td>\n",
       "        </tr>\n",
       "        <tr>\n",
       "            <td>The Ten Commandments            </td> <td>65500000 </td> <td>1956</td>\n",
       "        </tr>\n",
       "        <tr>\n",
       "            <td>Jaws                            </td> <td>260000000</td> <td>1975</td>\n",
       "        </tr>\n",
       "        <tr>\n",
       "            <td>Doctor Zhivago                  </td> <td>111721910</td> <td>1965</td>\n",
       "        </tr>\n",
       "        <tr>\n",
       "            <td>The Exorcist                    </td> <td>232906145</td> <td>1973</td>\n",
       "        </tr>\n",
       "        <tr>\n",
       "            <td>Snow White and the Seven Dwarves</td> <td>184925486</td> <td>1937</td>\n",
       "        </tr>\n",
       "    </tbody>\n",
       "</table>\n",
       "<p>... (190 rows omitted)</p>"
      ],
      "text/plain": [
       "Title                            | Gross     | Year\n",
       "Gone with the Wind               | 198676459 | 1939\n",
       "Star Wars                        | 460998007 | 1977\n",
       "The Sound of Music               | 158671368 | 1965\n",
       "E.T.: The Extra-Terrestrial      | 435110554 | 1982\n",
       "Titanic                          | 658672302 | 1997\n",
       "The Ten Commandments             | 65500000  | 1956\n",
       "Jaws                             | 260000000 | 1975\n",
       "Doctor Zhivago                   | 111721910 | 1965\n",
       "The Exorcist                     | 232906145 | 1973\n",
       "Snow White and the Seven Dwarves | 184925486 | 1937\n",
       "... (190 rows omitted)"
      ]
     },
     "execution_count": 36,
     "metadata": {},
     "output_type": "execute_result"
    }
   ],
   "source": [
    "topmovies.drop( 'Gross (Adjusted)','Gross in Millions', 'Studio')"
   ]
  },
  {
   "cell_type": "markdown",
   "metadata": {},
   "source": [
    "Neither `select` nor `drop` change the original table. Instead, they create new smaller tables that share the same data. The fact that the original table is preserved is useful! You can generate multiple different tables that only consider certain columns without worrying that one analysis will affect the other."
   ]
  },
  {
   "cell_type": "code",
   "execution_count": 22,
   "metadata": {},
   "outputs": [
    {
     "data": {
      "text/html": [
       "<table border=\"1\" class=\"dataframe\">\n",
       "    <thead>\n",
       "        <tr>\n",
       "            <th>Title</th> <th>Studio</th> <th>Gross</th> <th>Gross (Adjusted)</th> <th>Year</th> <th>Gross in Millions</th>\n",
       "        </tr>\n",
       "    </thead>\n",
       "    <tbody>\n",
       "        <tr>\n",
       "            <td>Gone with the Wind              </td> <td>MGM            </td> <td>198676459</td> <td>1796176700      </td> <td>1939</td> <td>BZ$198.68        </td>\n",
       "        </tr>\n",
       "        <tr>\n",
       "            <td>Star Wars                       </td> <td>Fox            </td> <td>460998007</td> <td>1583483200      </td> <td>1977</td> <td>BZ$461.00        </td>\n",
       "        </tr>\n",
       "        <tr>\n",
       "            <td>The Sound of Music              </td> <td>Fox            </td> <td>158671368</td> <td>1266072700      </td> <td>1965</td> <td>BZ$158.67        </td>\n",
       "        </tr>\n",
       "        <tr>\n",
       "            <td>E.T.: The Extra-Terrestrial     </td> <td>Universal      </td> <td>435110554</td> <td>1261085000      </td> <td>1982</td> <td>BZ$435.11        </td>\n",
       "        </tr>\n",
       "        <tr>\n",
       "            <td>Titanic                         </td> <td>Paramount      </td> <td>658672302</td> <td>1204368000      </td> <td>1997</td> <td>BZ$658.67        </td>\n",
       "        </tr>\n",
       "        <tr>\n",
       "            <td>The Ten Commandments            </td> <td>Paramount      </td> <td>65500000 </td> <td>1164590000      </td> <td>1956</td> <td>BZ$65.50         </td>\n",
       "        </tr>\n",
       "        <tr>\n",
       "            <td>Jaws                            </td> <td>Universal      </td> <td>260000000</td> <td>1138620700      </td> <td>1975</td> <td>BZ$260.00        </td>\n",
       "        </tr>\n",
       "        <tr>\n",
       "            <td>Doctor Zhivago                  </td> <td>MGM            </td> <td>111721910</td> <td>1103564200      </td> <td>1965</td> <td>BZ$111.72        </td>\n",
       "        </tr>\n",
       "        <tr>\n",
       "            <td>The Exorcist                    </td> <td>Warner Brothers</td> <td>232906145</td> <td>983226600       </td> <td>1973</td> <td>BZ$232.91        </td>\n",
       "        </tr>\n",
       "        <tr>\n",
       "            <td>Snow White and the Seven Dwarves</td> <td>Disney         </td> <td>184925486</td> <td>969010000       </td> <td>1937</td> <td>BZ$184.93        </td>\n",
       "        </tr>\n",
       "    </tbody>\n",
       "</table>\n",
       "<p>... (190 rows omitted)</p>"
      ],
      "text/plain": [
       "Title                            | Studio          | Gross     | Gross (Adjusted) | Year | Gross in Millions\n",
       "Gone with the Wind               | MGM             | 198676459 | 1796176700       | 1939 | BZ$198.68\n",
       "Star Wars                        | Fox             | 460998007 | 1583483200       | 1977 | BZ$461.00\n",
       "The Sound of Music               | Fox             | 158671368 | 1266072700       | 1965 | BZ$158.67\n",
       "E.T.: The Extra-Terrestrial      | Universal       | 435110554 | 1261085000       | 1982 | BZ$435.11\n",
       "Titanic                          | Paramount       | 658672302 | 1204368000       | 1997 | BZ$658.67\n",
       "The Ten Commandments             | Paramount       | 65500000  | 1164590000       | 1956 | BZ$65.50\n",
       "Jaws                             | Universal       | 260000000 | 1138620700       | 1975 | BZ$260.00\n",
       "Doctor Zhivago                   | MGM             | 111721910 | 1103564200       | 1965 | BZ$111.72\n",
       "The Exorcist                     | Warner Brothers | 232906145 | 983226600        | 1973 | BZ$232.91\n",
       "Snow White and the Seven Dwarves | Disney          | 184925486 | 969010000        | 1937 | BZ$184.93\n",
       "... (190 rows omitted)"
      ]
     },
     "execution_count": 22,
     "metadata": {},
     "output_type": "execute_result"
    }
   ],
   "source": [
    "topmovies"
   ]
  },
  {
   "cell_type": "markdown",
   "metadata": {},
   "source": [
    "As we are interested in only 'Title', 'Year', and 'Gross', let's keep those three only for the future uses in this section."
   ]
  },
  {
   "cell_type": "code",
   "execution_count": 43,
   "metadata": {},
   "outputs": [
    {
     "data": {
      "text/html": [
       "<table border=\"1\" class=\"dataframe\">\n",
       "    <thead>\n",
       "        <tr>\n",
       "            <th>Title</th> <th>Year</th> <th>Gross</th>\n",
       "        </tr>\n",
       "    </thead>\n",
       "    <tbody>\n",
       "        <tr>\n",
       "            <td>Gone with the Wind              </td> <td>1939</td> <td>198676459</td>\n",
       "        </tr>\n",
       "        <tr>\n",
       "            <td>Star Wars                       </td> <td>1977</td> <td>460998007</td>\n",
       "        </tr>\n",
       "        <tr>\n",
       "            <td>The Sound of Music              </td> <td>1965</td> <td>158671368</td>\n",
       "        </tr>\n",
       "        <tr>\n",
       "            <td>E.T.: The Extra-Terrestrial     </td> <td>1982</td> <td>435110554</td>\n",
       "        </tr>\n",
       "        <tr>\n",
       "            <td>Titanic                         </td> <td>1997</td> <td>658672302</td>\n",
       "        </tr>\n",
       "        <tr>\n",
       "            <td>The Ten Commandments            </td> <td>1956</td> <td>65500000 </td>\n",
       "        </tr>\n",
       "        <tr>\n",
       "            <td>Jaws                            </td> <td>1975</td> <td>260000000</td>\n",
       "        </tr>\n",
       "        <tr>\n",
       "            <td>Doctor Zhivago                  </td> <td>1965</td> <td>111721910</td>\n",
       "        </tr>\n",
       "        <tr>\n",
       "            <td>The Exorcist                    </td> <td>1973</td> <td>232906145</td>\n",
       "        </tr>\n",
       "        <tr>\n",
       "            <td>Snow White and the Seven Dwarves</td> <td>1937</td> <td>184925486</td>\n",
       "        </tr>\n",
       "    </tbody>\n",
       "</table>\n",
       "<p>... (190 rows omitted)</p>"
      ],
      "text/plain": [
       "Title                            | Year | Gross\n",
       "Gone with the Wind               | 1939 | 198676459\n",
       "Star Wars                        | 1977 | 460998007\n",
       "The Sound of Music               | 1965 | 158671368\n",
       "E.T.: The Extra-Terrestrial      | 1982 | 435110554\n",
       "Titanic                          | 1997 | 658672302\n",
       "The Ten Commandments             | 1956 | 65500000\n",
       "Jaws                             | 1975 | 260000000\n",
       "Doctor Zhivago                   | 1965 | 111721910\n",
       "The Exorcist                     | 1973 | 232906145\n",
       "Snow White and the Seven Dwarves | 1937 | 184925486\n",
       "... (190 rows omitted)"
      ]
     },
     "execution_count": 43,
     "metadata": {},
     "output_type": "execute_result"
    }
   ],
   "source": [
    "topmovies = topmovies.select('Title', 'Year','Gross')\n",
    "topmovies"
   ]
  },
  {
   "cell_type": "markdown",
   "metadata": {},
   "source": [
    "<h3>Selecting Rows</h3>\n",
    "\n",
    "Often, we would like to extract just those rows that correspond to entries with a particular feature. For example, movies released in the year 2016. Or you might want to take the first five movies. "
   ]
  },
  {
   "cell_type": "markdown",
   "metadata": {},
   "source": [
    "<h4>Specified Rows</h4>\n",
    "The Table method `take` does just that – it takes a specified set of rows. Its argument is a row index or array of indices, and it creates a new table consisting of only those rows."
   ]
  },
  {
   "cell_type": "code",
   "execution_count": 41,
   "metadata": {},
   "outputs": [
    {
     "data": {
      "text/html": [
       "<table border=\"1\" class=\"dataframe\">\n",
       "    <thead>\n",
       "        <tr>\n",
       "            <th>Title</th> <th>Year</th> <th>Gross</th>\n",
       "        </tr>\n",
       "    </thead>\n",
       "    <tbody>\n",
       "        <tr>\n",
       "            <td>Gone with the Wind</td> <td>1939</td> <td>198676459</td>\n",
       "        </tr>\n",
       "    </tbody>\n",
       "</table>"
      ],
      "text/plain": [
       "Title              | Year | Gross\n",
       "Gone with the Wind | 1939 | 198676459"
      ]
     },
     "execution_count": 41,
     "metadata": {},
     "output_type": "execute_result"
    }
   ],
   "source": [
    "# Let's start by taking the first rows only\n",
    "topmovies.take(0)"
   ]
  },
  {
   "cell_type": "markdown",
   "metadata": {},
   "source": [
    "Similarly you can take the first 5 rows."
   ]
  },
  {
   "cell_type": "code",
   "execution_count": 44,
   "metadata": {},
   "outputs": [
    {
     "data": {
      "text/html": [
       "<table border=\"1\" class=\"dataframe\">\n",
       "    <thead>\n",
       "        <tr>\n",
       "            <th>Title</th> <th>Year</th> <th>Gross</th>\n",
       "        </tr>\n",
       "    </thead>\n",
       "    <tbody>\n",
       "        <tr>\n",
       "            <td>Gone with the Wind         </td> <td>1939</td> <td>198676459</td>\n",
       "        </tr>\n",
       "        <tr>\n",
       "            <td>Star Wars                  </td> <td>1977</td> <td>460998007</td>\n",
       "        </tr>\n",
       "        <tr>\n",
       "            <td>The Sound of Music         </td> <td>1965</td> <td>158671368</td>\n",
       "        </tr>\n",
       "        <tr>\n",
       "            <td>E.T.: The Extra-Terrestrial</td> <td>1982</td> <td>435110554</td>\n",
       "        </tr>\n",
       "        <tr>\n",
       "            <td>Titanic                    </td> <td>1997</td> <td>658672302</td>\n",
       "        </tr>\n",
       "    </tbody>\n",
       "</table>"
      ],
      "text/plain": [
       "Title                       | Year | Gross\n",
       "Gone with the Wind          | 1939 | 198676459\n",
       "Star Wars                   | 1977 | 460998007\n",
       "The Sound of Music          | 1965 | 158671368\n",
       "E.T.: The Extra-Terrestrial | 1982 | 435110554\n",
       "Titanic                     | 1997 | 658672302"
      ]
     },
     "execution_count": 44,
     "metadata": {},
     "output_type": "execute_result"
    }
   ],
   "source": [
    "topmovies.take(np.arange(5))"
   ]
  },
  {
   "cell_type": "markdown",
   "metadata": {},
   "source": [
    "Or you may want to take the fourth, fifth, and sixth rows by specifying a range of indices as the argument."
   ]
  },
  {
   "cell_type": "code",
   "execution_count": 46,
   "metadata": {},
   "outputs": [
    {
     "data": {
      "text/html": [
       "<table border=\"1\" class=\"dataframe\">\n",
       "    <thead>\n",
       "        <tr>\n",
       "            <th>Title</th> <th>Year</th> <th>Gross</th>\n",
       "        </tr>\n",
       "    </thead>\n",
       "    <tbody>\n",
       "        <tr>\n",
       "            <td>E.T.: The Extra-Terrestrial</td> <td>1982</td> <td>435110554</td>\n",
       "        </tr>\n",
       "        <tr>\n",
       "            <td>Titanic                    </td> <td>1997</td> <td>658672302</td>\n",
       "        </tr>\n",
       "        <tr>\n",
       "            <td>The Ten Commandments       </td> <td>1956</td> <td>65500000 </td>\n",
       "        </tr>\n",
       "    </tbody>\n",
       "</table>"
      ],
      "text/plain": [
       "Title                       | Year | Gross\n",
       "E.T.: The Extra-Terrestrial | 1982 | 435110554\n",
       "Titanic                     | 1997 | 658672302\n",
       "The Ten Commandments        | 1956 | 65500000"
      ]
     },
     "execution_count": 46,
     "metadata": {},
     "output_type": "execute_result"
    }
   ],
   "source": [
    "topmovies.take(np.arange(3,6))"
   ]
  },
  {
   "cell_type": "markdown",
   "metadata": {},
   "source": [
    "<h4> Rows Corresponding to a Special Feature</h4>\n",
    "\n",
    "More often, we will want to access data in a set of rows that have a certain feature, but whose indices we don’t know ahead of time. For example, we want to get the movies that were released in the year 2016. but we don’t want to spend time counting rows in the table.\n",
    "\n",
    "The method `where` is used for this purpose. Its output is a table with the same columns as the original but only the rows where the feature occurs. It has two arguments:\n",
    "\n",
    "The first argument of `where` is the label of the column that contains the information about whether or not a row has the feature we want. If the feature is \"Produces is Fox studios\" then the column in Studio.\n",
    "\n",
    "The second argument of `where` is a way of specifying the feature. (We often call it predicate)\n",
    "\n",
    "**We will use this type of row selection to solve our problem stated at the beginning of this section.**"
   ]
  },
  {
   "cell_type": "markdown",
   "metadata": {},
   "source": [
    "In our question, we are interested in only the movies that were released in the year 2016. To get the movies released in 2016 we can use `where` method and apply `equal_to` predicate on the 'Year' column. We "
   ]
  },
  {
   "cell_type": "code",
   "execution_count": 53,
   "metadata": {},
   "outputs": [
    {
     "data": {
      "text/html": [
       "<table border=\"1\" class=\"dataframe\">\n",
       "    <thead>\n",
       "        <tr>\n",
       "            <th>Title</th> <th>Year</th> <th>Gross</th>\n",
       "        </tr>\n",
       "    </thead>\n",
       "    <tbody>\n",
       "        <tr>\n",
       "            <td>Rogue One: A Star Wars Story      </td> <td>2016</td> <td>532177324</td>\n",
       "        </tr>\n",
       "        <tr>\n",
       "            <td>Finding Dory                      </td> <td>2016</td> <td>486295561</td>\n",
       "        </tr>\n",
       "        <tr>\n",
       "            <td>Captain America: Civil War        </td> <td>2016</td> <td>408084349</td>\n",
       "        </tr>\n",
       "        <tr>\n",
       "            <td>The Secret Life of Pets           </td> <td>2016</td> <td>368384330</td>\n",
       "        </tr>\n",
       "        <tr>\n",
       "            <td>Deadpool                          </td> <td>2016</td> <td>363070709</td>\n",
       "        </tr>\n",
       "        <tr>\n",
       "            <td>The Jungle Book (2016)            </td> <td>2016</td> <td>364001123</td>\n",
       "        </tr>\n",
       "        <tr>\n",
       "            <td>Zootopia                          </td> <td>2016</td> <td>341268248</td>\n",
       "        </tr>\n",
       "        <tr>\n",
       "            <td>Batman v Superman: Dawn of Justice</td> <td>2016</td> <td>330360194</td>\n",
       "        </tr>\n",
       "        <tr>\n",
       "            <td>Suicide Squad                     </td> <td>2016</td> <td>325100054</td>\n",
       "        </tr>\n",
       "    </tbody>\n",
       "</table>"
      ],
      "text/plain": [
       "Title                              | Year | Gross\n",
       "Rogue One: A Star Wars Story       | 2016 | 532177324\n",
       "Finding Dory                       | 2016 | 486295561\n",
       "Captain America: Civil War         | 2016 | 408084349\n",
       "The Secret Life of Pets            | 2016 | 368384330\n",
       "Deadpool                           | 2016 | 363070709\n",
       "The Jungle Book (2016)             | 2016 | 364001123\n",
       "Zootopia                           | 2016 | 341268248\n",
       "Batman v Superman: Dawn of Justice | 2016 | 330360194\n",
       "Suicide Squad                      | 2016 | 325100054"
      ]
     },
     "execution_count": 53,
     "metadata": {},
     "output_type": "execute_result"
    }
   ],
   "source": [
    "topmovies2016 = topmovies.where('Year', are.equal_to(2016))\n",
    "topmovies2016"
   ]
  },
  {
   "cell_type": "markdown",
   "metadata": {},
   "source": [
    "We may apply a pipeline of where conditions on different columns with different predicates. For example, for movies released in 2016 which made more than 400 million we need to access rows that have multiple features. "
   ]
  },
  {
   "cell_type": "code",
   "execution_count": 55,
   "metadata": {},
   "outputs": [
    {
     "data": {
      "text/html": [
       "<table border=\"1\" class=\"dataframe\">\n",
       "    <thead>\n",
       "        <tr>\n",
       "            <th>Title</th> <th>Year</th> <th>Gross</th>\n",
       "        </tr>\n",
       "    </thead>\n",
       "    <tbody>\n",
       "        <tr>\n",
       "            <td>Rogue One: A Star Wars Story</td> <td>2016</td> <td>532177324</td>\n",
       "        </tr>\n",
       "        <tr>\n",
       "            <td>Finding Dory                </td> <td>2016</td> <td>486295561</td>\n",
       "        </tr>\n",
       "        <tr>\n",
       "            <td>Captain America: Civil War  </td> <td>2016</td> <td>408084349</td>\n",
       "        </tr>\n",
       "    </tbody>\n",
       "</table>"
      ],
      "text/plain": [
       "Title                        | Year | Gross\n",
       "Rogue One: A Star Wars Story | 2016 | 532177324\n",
       "Finding Dory                 | 2016 | 486295561\n",
       "Captain America: Civil War   | 2016 | 408084349"
      ]
     },
     "execution_count": 55,
     "metadata": {},
     "output_type": "execute_result"
    }
   ],
   "source": [
    "topmovies.where('Year', are.equal_to(2016)).where('Gross', are.above(400000000))"
   ]
  },
  {
   "cell_type": "markdown",
   "metadata": {},
   "source": [
    "The general way to create a new table by selecting rows with a given feature is to use `where` and `are` with the appropriate condition:\n",
    "\n",
    "`original_table_name.where(column_label_string, are.condition)`. Remember that it does not change the original table; we need to assign this to some other table if we want to use this later.\n",
    "\n",
    "**Note**: Check out the predicates often used as a condition [here](https://www.data8.org/datascience/predicates.html#datascience.predicates.are).\n",
    "\n"
   ]
  },
  {
   "cell_type": "markdown",
   "metadata": {},
   "source": [
    "<h2>Sorting</h2>\n",
    "\n",
    "Often we want to rank data based on the values of a Column. That's when sorting a Table becomes useful. Sorting is particularly useful when dealing with large datasets, where manually finding and comparing data points would be impractical.\n",
    "\n",
    "As we already have the movies in the year 2016 in the `topmovies2016` table, now it comes to the point of finding the movies with the highest gross. We use soring for that purpose. To sort a table based on a column value we use the `Table.sort` method. It takes the column name as an argument and returns a new table where rows are sorted based on the column value. \n",
    "\n",
    "In our case we want our Table to be sorted based on the column 'Gross'. "
   ]
  },
  {
   "cell_type": "code",
   "execution_count": 56,
   "metadata": {},
   "outputs": [
    {
     "data": {
      "text/html": [
       "<table border=\"1\" class=\"dataframe\">\n",
       "    <thead>\n",
       "        <tr>\n",
       "            <th>Title</th> <th>Year</th> <th>Gross</th>\n",
       "        </tr>\n",
       "    </thead>\n",
       "    <tbody>\n",
       "        <tr>\n",
       "            <td>Suicide Squad                     </td> <td>2016</td> <td>325100054</td>\n",
       "        </tr>\n",
       "        <tr>\n",
       "            <td>Batman v Superman: Dawn of Justice</td> <td>2016</td> <td>330360194</td>\n",
       "        </tr>\n",
       "        <tr>\n",
       "            <td>Zootopia                          </td> <td>2016</td> <td>341268248</td>\n",
       "        </tr>\n",
       "        <tr>\n",
       "            <td>Deadpool                          </td> <td>2016</td> <td>363070709</td>\n",
       "        </tr>\n",
       "        <tr>\n",
       "            <td>The Jungle Book (2016)            </td> <td>2016</td> <td>364001123</td>\n",
       "        </tr>\n",
       "        <tr>\n",
       "            <td>The Secret Life of Pets           </td> <td>2016</td> <td>368384330</td>\n",
       "        </tr>\n",
       "        <tr>\n",
       "            <td>Captain America: Civil War        </td> <td>2016</td> <td>408084349</td>\n",
       "        </tr>\n",
       "        <tr>\n",
       "            <td>Finding Dory                      </td> <td>2016</td> <td>486295561</td>\n",
       "        </tr>\n",
       "        <tr>\n",
       "            <td>Rogue One: A Star Wars Story      </td> <td>2016</td> <td>532177324</td>\n",
       "        </tr>\n",
       "    </tbody>\n",
       "</table>"
      ],
      "text/plain": [
       "Title                              | Year | Gross\n",
       "Suicide Squad                      | 2016 | 325100054\n",
       "Batman v Superman: Dawn of Justice | 2016 | 330360194\n",
       "Zootopia                           | 2016 | 341268248\n",
       "Deadpool                           | 2016 | 363070709\n",
       "The Jungle Book (2016)             | 2016 | 364001123\n",
       "The Secret Life of Pets            | 2016 | 368384330\n",
       "Captain America: Civil War         | 2016 | 408084349\n",
       "Finding Dory                       | 2016 | 486295561\n",
       "Rogue One: A Star Wars Story       | 2016 | 532177324"
      ]
     },
     "execution_count": 56,
     "metadata": {},
     "output_type": "execute_result"
    }
   ],
   "source": [
    "topmovies2016.sort('Gross')"
   ]
  },
  {
   "cell_type": "markdown",
   "metadata": {},
   "source": [
    "Note that when we sort the Table on 'Gross' without specifying anything, we got the movies with lowest gross to highest gross (ascending order). We want it to be the other way around. By default `Table.sort` method sorts the Table in ascending order. To change the order we need to specify descending =True as an optional argument."
   ]
  },
  {
   "cell_type": "code",
   "execution_count": 57,
   "metadata": {},
   "outputs": [
    {
     "data": {
      "text/html": [
       "<table border=\"1\" class=\"dataframe\">\n",
       "    <thead>\n",
       "        <tr>\n",
       "            <th>Title</th> <th>Year</th> <th>Gross</th>\n",
       "        </tr>\n",
       "    </thead>\n",
       "    <tbody>\n",
       "        <tr>\n",
       "            <td>Rogue One: A Star Wars Story      </td> <td>2016</td> <td>532177324</td>\n",
       "        </tr>\n",
       "        <tr>\n",
       "            <td>Finding Dory                      </td> <td>2016</td> <td>486295561</td>\n",
       "        </tr>\n",
       "        <tr>\n",
       "            <td>Captain America: Civil War        </td> <td>2016</td> <td>408084349</td>\n",
       "        </tr>\n",
       "        <tr>\n",
       "            <td>The Secret Life of Pets           </td> <td>2016</td> <td>368384330</td>\n",
       "        </tr>\n",
       "        <tr>\n",
       "            <td>The Jungle Book (2016)            </td> <td>2016</td> <td>364001123</td>\n",
       "        </tr>\n",
       "        <tr>\n",
       "            <td>Deadpool                          </td> <td>2016</td> <td>363070709</td>\n",
       "        </tr>\n",
       "        <tr>\n",
       "            <td>Zootopia                          </td> <td>2016</td> <td>341268248</td>\n",
       "        </tr>\n",
       "        <tr>\n",
       "            <td>Batman v Superman: Dawn of Justice</td> <td>2016</td> <td>330360194</td>\n",
       "        </tr>\n",
       "        <tr>\n",
       "            <td>Suicide Squad                     </td> <td>2016</td> <td>325100054</td>\n",
       "        </tr>\n",
       "    </tbody>\n",
       "</table>"
      ],
      "text/plain": [
       "Title                              | Year | Gross\n",
       "Rogue One: A Star Wars Story       | 2016 | 532177324\n",
       "Finding Dory                       | 2016 | 486295561\n",
       "Captain America: Civil War         | 2016 | 408084349\n",
       "The Secret Life of Pets            | 2016 | 368384330\n",
       "The Jungle Book (2016)             | 2016 | 364001123\n",
       "Deadpool                           | 2016 | 363070709\n",
       "Zootopia                           | 2016 | 341268248\n",
       "Batman v Superman: Dawn of Justice | 2016 | 330360194\n",
       "Suicide Squad                      | 2016 | 325100054"
      ]
     },
     "execution_count": 57,
     "metadata": {},
     "output_type": "execute_result"
    }
   ],
   "source": [
    "sorted2016 = topmovies2016.sort('Gross', descending =True)\n",
    "sorted2016"
   ]
  },
  {
   "cell_type": "markdown",
   "metadata": {},
   "source": [
    "Now we have the sorted data on the 'Gross' column in sorted2016 table. The last step is to take the top 5 movies which can be easily done by taking the first 5 rows in the Table."
   ]
  },
  {
   "cell_type": "code",
   "execution_count": 59,
   "metadata": {},
   "outputs": [
    {
     "data": {
      "text/html": [
       "<table border=\"1\" class=\"dataframe\">\n",
       "    <thead>\n",
       "        <tr>\n",
       "            <th>Title</th> <th>Year</th> <th>Gross</th>\n",
       "        </tr>\n",
       "    </thead>\n",
       "    <tbody>\n",
       "        <tr>\n",
       "            <td>Rogue One: A Star Wars Story</td> <td>2016</td> <td>532177324</td>\n",
       "        </tr>\n",
       "        <tr>\n",
       "            <td>Finding Dory                </td> <td>2016</td> <td>486295561</td>\n",
       "        </tr>\n",
       "        <tr>\n",
       "            <td>Captain America: Civil War  </td> <td>2016</td> <td>408084349</td>\n",
       "        </tr>\n",
       "        <tr>\n",
       "            <td>The Secret Life of Pets     </td> <td>2016</td> <td>368384330</td>\n",
       "        </tr>\n",
       "        <tr>\n",
       "            <td>The Jungle Book (2016)      </td> <td>2016</td> <td>364001123</td>\n",
       "        </tr>\n",
       "    </tbody>\n",
       "</table>"
      ],
      "text/plain": [
       "Title                        | Year | Gross\n",
       "Rogue One: A Star Wars Story | 2016 | 532177324\n",
       "Finding Dory                 | 2016 | 486295561\n",
       "Captain America: Civil War   | 2016 | 408084349\n",
       "The Secret Life of Pets      | 2016 | 368384330\n",
       "The Jungle Book (2016)       | 2016 | 364001123"
      ]
     },
     "execution_count": 59,
     "metadata": {},
     "output_type": "execute_result"
    }
   ],
   "source": [
    "sorted2016.take(np.arange(5))"
   ]
  },
  {
   "cell_type": "code",
   "execution_count": null,
   "metadata": {},
   "outputs": [],
   "source": [
    "And here we get our answer to the initial question. "
   ]
  },
  {
   "cell_type": "markdown",
   "metadata": {},
   "source": [
    "**All of the methods that we have used above can be applied to any table.**"
   ]
  },
  {
   "cell_type": "markdown",
   "metadata": {},
   "source": [
    "<h2>Conclusion</h2>\n",
    "In this section we answered a data science question from tabular data using selecting and sorting methods from `datascience. First we broke down our question into doable smaller subproblems and then we solved each smaller subproblems using Python programming to get the answer to our main question."
   ]
  },
  {
   "cell_type": "code",
   "execution_count": null,
   "metadata": {},
   "outputs": [],
   "source": []
  }
 ],
 "metadata": {
  "anaconda-cloud": {},
  "kernelspec": {
   "display_name": "Python 3 (ipykernel)",
   "language": "python",
   "name": "python3"
  },
  "language_info": {
   "codemirror_mode": {
    "name": "ipython",
    "version": 3
   },
   "file_extension": ".py",
   "mimetype": "text/x-python",
   "name": "python",
   "nbconvert_exporter": "python",
   "pygments_lexer": "ipython3",
   "version": "3.12.0"
  }
 },
 "nbformat": 4,
 "nbformat_minor": 4
}
