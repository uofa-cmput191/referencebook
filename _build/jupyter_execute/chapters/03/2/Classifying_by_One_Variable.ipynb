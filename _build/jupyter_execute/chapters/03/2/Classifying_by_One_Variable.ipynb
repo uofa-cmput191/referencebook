{
 "cells": [
  {
   "cell_type": "code",
   "execution_count": 10,
   "metadata": {
    "tags": [
     "remove-input"
    ]
   },
   "outputs": [],
   "source": [
    "from datascience import *\n",
    "path_data = '../../../assets/data/'\n",
    "import matplotlib\n",
    "matplotlib.use('Agg')\n",
    "%matplotlib inline\n",
    "import matplotlib.pyplot as plots\n",
    "plots.style.use('fivethirtyeight')\n",
    "import numpy as np\n",
    "\n",
    "nhl = Table.read_table(path_data + 'nhl_salaries.csv')\n",
    "nhl = nhl.drop('Rank')"
   ]
  },
  {
   "cell_type": "markdown",
   "metadata": {},
   "source": [
    "# Classifying by One Variable\n",
    "\n",
    "Data scientists often need to classify individuals into groups according to shared features, and then identify some characteristics of the groups. For example, in the top movies dataset, it's common to ask:\n",
    "\n",
    "**What was the total gross in each year?** \n",
    "\n",
    "This type of question involves classifying individuals into categories that are not numerical. To classify individuals into categories we use **grouping**. "
   ]
  },
  {
   "cell_type": "markdown",
   "metadata": {},
   "source": [
    "## Counting the Number in Each Category\n",
    "The `group` method with a single argument counts the number of rows for each category in a column. The result contains one row per unique value in the grouped column.\n",
    "\n",
    "Here is a small table of data on ice cream cones. The `group` method can be used to list the distinct flavors and provide the counts of each flavor."
   ]
  },
  {
   "cell_type": "code",
   "execution_count": 11,
   "metadata": {},
   "outputs": [
    {
     "data": {
      "text/html": [
       "<table border=\"1\" class=\"dataframe\">\n",
       "    <thead>\n",
       "        <tr>\n",
       "            <th>Flavor</th> <th>Price</th>\n",
       "        </tr>\n",
       "    </thead>\n",
       "    <tbody>\n",
       "        <tr>\n",
       "            <td>strawberry</td> <td>3.55 </td>\n",
       "        </tr>\n",
       "        <tr>\n",
       "            <td>chocolate </td> <td>4.75 </td>\n",
       "        </tr>\n",
       "        <tr>\n",
       "            <td>chocolate </td> <td>6.55 </td>\n",
       "        </tr>\n",
       "        <tr>\n",
       "            <td>strawberry</td> <td>5.25 </td>\n",
       "        </tr>\n",
       "        <tr>\n",
       "            <td>chocolate </td> <td>5.25 </td>\n",
       "        </tr>\n",
       "    </tbody>\n",
       "</table>"
      ],
      "text/plain": [
       "Flavor     | Price\n",
       "strawberry | 3.55\n",
       "chocolate  | 4.75\n",
       "chocolate  | 6.55\n",
       "strawberry | 5.25\n",
       "chocolate  | 5.25"
      ]
     },
     "execution_count": 11,
     "metadata": {},
     "output_type": "execute_result"
    }
   ],
   "source": [
    "cones = Table().with_columns(\n",
    "    'Flavor', make_array('strawberry', 'chocolate', 'chocolate', 'strawberry', 'chocolate'),\n",
    "    'Price', make_array(3.55, 4.75, 6.55, 5.25, 5.25)\n",
    ")\n",
    "cones"
   ]
  },
  {
   "cell_type": "code",
   "execution_count": 12,
   "metadata": {},
   "outputs": [
    {
     "data": {
      "text/html": [
       "<table border=\"1\" class=\"dataframe\">\n",
       "    <thead>\n",
       "        <tr>\n",
       "            <th>Flavor</th> <th>count</th>\n",
       "        </tr>\n",
       "    </thead>\n",
       "    <tbody>\n",
       "        <tr>\n",
       "            <td>chocolate </td> <td>3    </td>\n",
       "        </tr>\n",
       "        <tr>\n",
       "            <td>strawberry</td> <td>2    </td>\n",
       "        </tr>\n",
       "    </tbody>\n",
       "</table>"
      ],
      "text/plain": [
       "Flavor     | count\n",
       "chocolate  | 3\n",
       "strawberry | 2"
      ]
     },
     "execution_count": 12,
     "metadata": {},
     "output_type": "execute_result"
    }
   ],
   "source": [
    "cones.group('Flavor')"
   ]
  },
  {
   "cell_type": "markdown",
   "metadata": {},
   "source": [
    "There are two distinct categories, chocolate and strawberry. The call to `group` creates a table of counts in each category. The column is called `count` by default, and contains the number of rows in each category.\n",
    "\n",
    "Notice that this can all be worked out from just the `Flavor` column. The `Price` column has not been used.\n",
    "\n",
    "But what if we wanted the total price of the cones of each different flavor? That's where the second argument of `group` comes in."
   ]
  },
  {
   "cell_type": "markdown",
   "metadata": {},
   "source": [
    "## Finding a Characteristic of Each Category\n",
    "The optional second argument of `group` names the function that will be used to aggregate values in other columns for all of those rows. For instance, `sum` will sum up the prices in all rows that match each category. This result also contains one row per unique value in the grouped column, but it has the same number of columns as the original table.\n",
    "\n",
    "To find the total price of each flavor, we call `group` again, with `Flavor` as its first argument as before. But this time there is a second argument: the function name `sum`."
   ]
  },
  {
   "cell_type": "code",
   "execution_count": 13,
   "metadata": {},
   "outputs": [
    {
     "data": {
      "text/html": [
       "<table border=\"1\" class=\"dataframe\">\n",
       "    <thead>\n",
       "        <tr>\n",
       "            <th>Flavor</th> <th>Price sum</th>\n",
       "        </tr>\n",
       "    </thead>\n",
       "    <tbody>\n",
       "        <tr>\n",
       "            <td>chocolate </td> <td>16.55    </td>\n",
       "        </tr>\n",
       "        <tr>\n",
       "            <td>strawberry</td> <td>8.8      </td>\n",
       "        </tr>\n",
       "    </tbody>\n",
       "</table>"
      ],
      "text/plain": [
       "Flavor     | Price sum\n",
       "chocolate  | 16.55\n",
       "strawberry | 8.8"
      ]
     },
     "execution_count": 13,
     "metadata": {},
     "output_type": "execute_result"
    }
   ],
   "source": [
    "cones.group('Flavor', sum)"
   ]
  },
  {
   "cell_type": "markdown",
   "metadata": {},
   "source": [
    "To create this new table, `group` has calculated the sum of the `Price` entries in all the rows corresponding to each distinct flavor. The prices in the three `chocolate` rows add up to $\\$16.55$ (you can assume that price is being measured in dollars). The prices in the two `strawberry` rows have a total of $\\$8.80$.\n",
    "\n",
    "The label of the newly created \"sum\" column is `Price sum`, which is created by taking the label of the column being summed, and appending the word `sum`. \n",
    "\n",
    "Because `group` finds the `sum` of all columns other than the one with the categories, there is no need to specify that it has to `sum` the prices.\n",
    "\n",
    "To see in more detail what `group` is doing, notice that you could have figured out the total prices yourself, not only by mental arithmetic but also using code. For example, to find the total price of all the chocolate cones, you could start by creating a new table consisting of only the chocolate cones, and then accessing the column of prices:"
   ]
  },
  {
   "cell_type": "code",
   "execution_count": 14,
   "metadata": {},
   "outputs": [
    {
     "data": {
      "text/plain": [
       "array([ 4.75,  6.55,  5.25])"
      ]
     },
     "execution_count": 14,
     "metadata": {},
     "output_type": "execute_result"
    }
   ],
   "source": [
    "cones.where('Flavor', are.equal_to('chocolate')).column('Price')"
   ]
  },
  {
   "cell_type": "code",
   "execution_count": 15,
   "metadata": {},
   "outputs": [
    {
     "data": {
      "text/plain": [
       "16.550000000000001"
      ]
     },
     "execution_count": 15,
     "metadata": {},
     "output_type": "execute_result"
    }
   ],
   "source": [
    "sum(cones.where('Flavor', are.equal_to('chocolate')).column('Price'))"
   ]
  },
  {
   "cell_type": "markdown",
   "metadata": {},
   "source": [
    "This is what `group` is doing for each distinct value in `Flavor`."
   ]
  },
  {
   "cell_type": "code",
   "execution_count": 16,
   "metadata": {},
   "outputs": [
    {
     "data": {
      "text/html": [
       "<table border=\"1\" class=\"dataframe\">\n",
       "    <thead>\n",
       "        <tr>\n",
       "            <th>Flavor</th> <th>Array of All the Prices</th> <th>Sum of the Array</th>\n",
       "        </tr>\n",
       "    </thead>\n",
       "    <tbody>\n",
       "        <tr>\n",
       "            <td>chocolate </td> <td>[ 4.75  6.55  5.25]    </td> <td>16.55           </td>\n",
       "        </tr>\n",
       "        <tr>\n",
       "            <td>strawberry</td> <td>[ 3.55  5.25]          </td> <td>8.8             </td>\n",
       "        </tr>\n",
       "    </tbody>\n",
       "</table>"
      ],
      "text/plain": [
       "Flavor     | Array of All the Prices | Sum of the Array\n",
       "chocolate  | [ 4.75  6.55  5.25]     | 16.55\n",
       "strawberry | [ 3.55  5.25]           | 8.8"
      ]
     },
     "execution_count": 16,
     "metadata": {},
     "output_type": "execute_result"
    }
   ],
   "source": [
    "# For each distinct value in `Flavor, access all the rows\n",
    "# and create an array of `Price`\n",
    "\n",
    "cones_choc = cones.where('Flavor', are.equal_to('chocolate')).column('Price')\n",
    "cones_strawb = cones.where('Flavor', are.equal_to('strawberry')).column('Price')\n",
    "\n",
    "# Display the arrays in a table\n",
    "\n",
    "grouped_cones = Table().with_columns(\n",
    "    'Flavor', make_array('chocolate', 'strawberry'),\n",
    "    'Array of All the Prices', make_array(cones_choc, cones_strawb)\n",
    ")\n",
    "\n",
    "# Append a column with the sum of the `Price` values in each array\n",
    "\n",
    "price_totals = grouped_cones.with_column(\n",
    "    'Sum of the Array', make_array(sum(cones_choc), sum(cones_strawb))\n",
    ")\n",
    "price_totals"
   ]
  },
  {
   "cell_type": "markdown",
   "metadata": {},
   "source": [
    "You can replace `sum` by any other functions that work on arrays. For example, you could use `max` to find the largest price in each category:"
   ]
  },
  {
   "cell_type": "code",
   "execution_count": 17,
   "metadata": {},
   "outputs": [
    {
     "data": {
      "text/html": [
       "<table border=\"1\" class=\"dataframe\">\n",
       "    <thead>\n",
       "        <tr>\n",
       "            <th>Flavor</th> <th>Price max</th>\n",
       "        </tr>\n",
       "    </thead>\n",
       "    <tbody>\n",
       "        <tr>\n",
       "            <td>chocolate </td> <td>6.55     </td>\n",
       "        </tr>\n",
       "        <tr>\n",
       "            <td>strawberry</td> <td>5.25     </td>\n",
       "        </tr>\n",
       "    </tbody>\n",
       "</table>"
      ],
      "text/plain": [
       "Flavor     | Price max\n",
       "chocolate  | 6.55\n",
       "strawberry | 5.25"
      ]
     },
     "execution_count": 17,
     "metadata": {},
     "output_type": "execute_result"
    }
   ],
   "source": [
    "cones.group('Flavor', max)"
   ]
  },
  {
   "cell_type": "markdown",
   "metadata": {},
   "source": [
    "Once again, `group` creates arrays of the prices in each `Flavor` category. But now it finds the `max` of each array:"
   ]
  },
  {
   "cell_type": "code",
   "execution_count": 18,
   "metadata": {},
   "outputs": [
    {
     "data": {
      "text/html": [
       "<table border=\"1\" class=\"dataframe\">\n",
       "    <thead>\n",
       "        <tr>\n",
       "            <th>Flavor</th> <th>Array of All the Prices</th> <th>Max of the Array</th>\n",
       "        </tr>\n",
       "    </thead>\n",
       "    <tbody>\n",
       "        <tr>\n",
       "            <td>chocolate </td> <td>[ 4.75  6.55  5.25]    </td> <td>6.55            </td>\n",
       "        </tr>\n",
       "        <tr>\n",
       "            <td>strawberry</td> <td>[ 3.55  5.25]          </td> <td>5.25            </td>\n",
       "        </tr>\n",
       "    </tbody>\n",
       "</table>"
      ],
      "text/plain": [
       "Flavor     | Array of All the Prices | Max of the Array\n",
       "chocolate  | [ 4.75  6.55  5.25]     | 6.55\n",
       "strawberry | [ 3.55  5.25]           | 5.25"
      ]
     },
     "execution_count": 18,
     "metadata": {},
     "output_type": "execute_result"
    }
   ],
   "source": [
    "price_maxes = grouped_cones.with_column(\n",
    "    'Max of the Array', make_array(max(cones_choc), max(cones_strawb))\n",
    ")\n",
    "price_maxes"
   ]
  },
  {
   "cell_type": "markdown",
   "metadata": {},
   "source": [
    "Indeed, the original call to `group` with just one argument has the same effect as using `len` as the function and then cleaning up the table."
   ]
  },
  {
   "cell_type": "code",
   "execution_count": 19,
   "metadata": {},
   "outputs": [
    {
     "data": {
      "text/html": [
       "<table border=\"1\" class=\"dataframe\">\n",
       "    <thead>\n",
       "        <tr>\n",
       "            <th>Flavor</th> <th>Array of All the Prices</th> <th>Length of the Array</th>\n",
       "        </tr>\n",
       "    </thead>\n",
       "    <tbody>\n",
       "        <tr>\n",
       "            <td>chocolate </td> <td>[ 4.75  6.55  5.25]    </td> <td>3                  </td>\n",
       "        </tr>\n",
       "        <tr>\n",
       "            <td>strawberry</td> <td>[ 3.55  5.25]          </td> <td>2                  </td>\n",
       "        </tr>\n",
       "    </tbody>\n",
       "</table>"
      ],
      "text/plain": [
       "Flavor     | Array of All the Prices | Length of the Array\n",
       "chocolate  | [ 4.75  6.55  5.25]     | 3\n",
       "strawberry | [ 3.55  5.25]           | 2"
      ]
     },
     "execution_count": 19,
     "metadata": {},
     "output_type": "execute_result"
    }
   ],
   "source": [
    "lengths = grouped_cones.with_column(\n",
    "    'Length of the Array', make_array(len(cones_choc), len(cones_strawb))\n",
    ")\n",
    "lengths"
   ]
  },
  {
   "cell_type": "markdown",
   "metadata": {},
   "source": [
    "## Example: NHL Salaries\n",
    "The table `nhl` contains data on the 2023-2024 players in the National Hockey League. We will answer some datascience questions about this dataset using grouping."
   ]
  },
  {
   "cell_type": "code",
   "execution_count": 20,
   "metadata": {},
   "outputs": [
    {
     "data": {
      "text/html": [
       "<table border=\"1\" class=\"dataframe\">\n",
       "    <thead>\n",
       "        <tr>\n",
       "            <th>Name</th> <th>Team</th> <th>Position</th> <th>Salary</th>\n",
       "        </tr>\n",
       "    </thead>\n",
       "    <tbody>\n",
       "        <tr>\n",
       "            <td>Nathan MacKinnon</td> <td>COL </td> <td>C       </td> <td>12600000</td>\n",
       "        </tr>\n",
       "        <tr>\n",
       "            <td>Connor McDavid  </td> <td>EDM </td> <td>C       </td> <td>12500000</td>\n",
       "        </tr>\n",
       "        <tr>\n",
       "            <td>Artemi Panarin  </td> <td>NYR </td> <td>LW      </td> <td>11642857</td>\n",
       "        </tr>\n",
       "        <tr>\n",
       "            <td>Auston Matthews </td> <td>TOR </td> <td>C       </td> <td>11640250</td>\n",
       "        </tr>\n",
       "        <tr>\n",
       "            <td>Erik Karlsson   </td> <td>PIT </td> <td>D       </td> <td>11500000</td>\n",
       "        </tr>\n",
       "        <tr>\n",
       "            <td>David Pastrnak  </td> <td>BOS </td> <td>RW      </td> <td>11250000</td>\n",
       "        </tr>\n",
       "        <tr>\n",
       "            <td>Drew Doughty    </td> <td>LAK </td> <td>D       </td> <td>11000000</td>\n",
       "        </tr>\n",
       "        <tr>\n",
       "            <td>John Tavares    </td> <td>TOR </td> <td>C       </td> <td>11000000</td>\n",
       "        </tr>\n",
       "        <tr>\n",
       "            <td>Mitchell Marner </td> <td>TOR </td> <td>RW      </td> <td>10903000</td>\n",
       "        </tr>\n",
       "        <tr>\n",
       "            <td>Carey Price     </td> <td>MTL </td> <td>G       </td> <td>10500000</td>\n",
       "        </tr>\n",
       "    </tbody>\n",
       "</table>\n",
       "<p>... (791 rows omitted)</p>"
      ],
      "text/plain": [
       "Name             | Team | Position | Salary\n",
       "Nathan MacKinnon | COL  | C        | 12600000\n",
       "Connor McDavid   | EDM  | C        | 12500000\n",
       "Artemi Panarin   | NYR  | LW       | 11642857\n",
       "Auston Matthews  | TOR  | C        | 11640250\n",
       "Erik Karlsson    | PIT  | D        | 11500000\n",
       "David Pastrnak   | BOS  | RW       | 11250000\n",
       "Drew Doughty     | LAK  | D        | 11000000\n",
       "John Tavares     | TOR  | C        | 11000000\n",
       "Mitchell Marner  | TOR  | RW       | 10903000\n",
       "Carey Price      | MTL  | G        | 10500000\n",
       "... (791 rows omitted)"
      ]
     },
     "execution_count": 20,
     "metadata": {},
     "output_type": "execute_result"
    }
   ],
   "source": [
    "nhl"
   ]
  },
  {
   "cell_type": "markdown",
   "metadata": {},
   "source": [
    "**1.** How much money did each team pay for its players' salaries?\n",
    "\n",
    "The only columns involved are `Team` and `Salary`. We have to `group` the rows by `Team` and then `sum` the salaries of the groups. "
   ]
  },
  {
   "cell_type": "code",
   "execution_count": 21,
   "metadata": {},
   "outputs": [
    {
     "data": {
      "text/html": [
       "<table border=\"1\" class=\"dataframe\">\n",
       "    <thead>\n",
       "        <tr>\n",
       "            <th>Team</th> <th>Salary sum</th>\n",
       "        </tr>\n",
       "    </thead>\n",
       "    <tbody>\n",
       "        <tr>\n",
       "            <td>ANA </td> <td>68864167  </td>\n",
       "        </tr>\n",
       "        <tr>\n",
       "            <td>ARI </td> <td>65684872  </td>\n",
       "        </tr>\n",
       "        <tr>\n",
       "            <td>BOS </td> <td>85920000  </td>\n",
       "        </tr>\n",
       "        <tr>\n",
       "            <td>BUF </td> <td>71523570  </td>\n",
       "        </tr>\n",
       "        <tr>\n",
       "            <td>CAR </td> <td>95409417  </td>\n",
       "        </tr>\n",
       "        <tr>\n",
       "            <td>CBJ </td> <td>75754166  </td>\n",
       "        </tr>\n",
       "        <tr>\n",
       "            <td>CGY </td> <td>72827500  </td>\n",
       "        </tr>\n",
       "        <tr>\n",
       "            <td>CHI </td> <td>58468333  </td>\n",
       "        </tr>\n",
       "        <tr>\n",
       "            <td>COL </td> <td>88550000  </td>\n",
       "        </tr>\n",
       "        <tr>\n",
       "            <td>DAL </td> <td>87196667  </td>\n",
       "        </tr>\n",
       "    </tbody>\n",
       "</table>\n",
       "<p>... (22 rows omitted)</p>"
      ],
      "text/plain": [
       "Team | Salary sum\n",
       "ANA  | 68864167\n",
       "ARI  | 65684872\n",
       "BOS  | 85920000\n",
       "BUF  | 71523570\n",
       "CAR  | 95409417\n",
       "CBJ  | 75754166\n",
       "CGY  | 72827500\n",
       "CHI  | 58468333\n",
       "COL  | 88550000\n",
       "DAL  | 87196667\n",
       "... (22 rows omitted)"
      ]
     },
     "execution_count": 21,
     "metadata": {},
     "output_type": "execute_result"
    }
   ],
   "source": [
    "teams_and_money = nhl.select('Team', 'Salary')\n",
    "teams_and_money.group('Team', sum)"
   ]
  },
  {
   "cell_type": "markdown",
   "metadata": {},
   "source": [
    "**2.** How many NHL players were there in each of the five positions?\n",
    "\n",
    "We have to classify by `Position`, and count. This can be done with just one argument to group:"
   ]
  },
  {
   "cell_type": "code",
   "execution_count": 22,
   "metadata": {},
   "outputs": [
    {
     "data": {
      "text/html": [
       "<table border=\"1\" class=\"dataframe\">\n",
       "    <thead>\n",
       "        <tr>\n",
       "            <th>Position</th> <th>count</th>\n",
       "        </tr>\n",
       "    </thead>\n",
       "    <tbody>\n",
       "        <tr>\n",
       "            <td>C       </td> <td>240  </td>\n",
       "        </tr>\n",
       "        <tr>\n",
       "            <td>D       </td> <td>260  </td>\n",
       "        </tr>\n",
       "        <tr>\n",
       "            <td>G       </td> <td>73   </td>\n",
       "        </tr>\n",
       "        <tr>\n",
       "            <td>LW      </td> <td>130  </td>\n",
       "        </tr>\n",
       "        <tr>\n",
       "            <td>RW      </td> <td>98   </td>\n",
       "        </tr>\n",
       "    </tbody>\n",
       "</table>"
      ],
      "text/plain": [
       "Position | count\n",
       "C        | 240\n",
       "D        | 260\n",
       "G        | 73\n",
       "LW       | 130\n",
       "RW       | 98"
      ]
     },
     "execution_count": 22,
     "metadata": {},
     "output_type": "execute_result"
    }
   ],
   "source": [
    "nhl.group('Position')"
   ]
  },
  {
   "cell_type": "markdown",
   "metadata": {},
   "source": [
    "**3.** What was the average salary of the players at each of the five positions?\n",
    "\n",
    "This time, we have to group by `Position` and take the mean of the salaries. For clarity, we will work with a table of just the positions and the salaries."
   ]
  },
  {
   "cell_type": "code",
   "execution_count": 23,
   "metadata": {},
   "outputs": [
    {
     "data": {
      "text/html": [
       "<table border=\"1\" class=\"dataframe\">\n",
       "    <thead>\n",
       "        <tr>\n",
       "            <th>Position</th> <th>Salary mean</th>\n",
       "        </tr>\n",
       "    </thead>\n",
       "    <tbody>\n",
       "        <tr>\n",
       "            <td>C       </td> <td>3.41948e+06</td>\n",
       "        </tr>\n",
       "        <tr>\n",
       "            <td>D       </td> <td>3.19945e+06</td>\n",
       "        </tr>\n",
       "        <tr>\n",
       "            <td>G       </td> <td>3.0182e+06 </td>\n",
       "        </tr>\n",
       "        <tr>\n",
       "            <td>LW      </td> <td>3.29887e+06</td>\n",
       "        </tr>\n",
       "        <tr>\n",
       "            <td>RW      </td> <td>3.02728e+06</td>\n",
       "        </tr>\n",
       "    </tbody>\n",
       "</table>"
      ],
      "text/plain": [
       "Position | Salary mean\n",
       "C        | 3.41948e+06\n",
       "D        | 3.19945e+06\n",
       "G        | 3.0182e+06\n",
       "LW       | 3.29887e+06\n",
       "RW       | 3.02728e+06"
      ]
     },
     "execution_count": 23,
     "metadata": {},
     "output_type": "execute_result"
    }
   ],
   "source": [
    "positions_and_money = nhl.select('Position', 'Salary')\n",
    "positions_and_money.group('Position', np.mean)"
   ]
  },
  {
   "cell_type": "markdown",
   "metadata": {},
   "source": [
    "Center was the most highly paid position, at an average of over 3 million dollars.\n",
    "\n",
    "If we had not selected the two columns as our first step, `group` would not attempt to \"average\" the categorical columns in `nhl`. (It is impossible to average two strings like \"Nathan MacKinnon\" and \"Connor McDavid\".) It performs arithmetic only on numerical columns and leaves the rest blank."
   ]
  },
  {
   "cell_type": "code",
   "execution_count": 24,
   "metadata": {},
   "outputs": [
    {
     "data": {
      "text/html": [
       "<table border=\"1\" class=\"dataframe\">\n",
       "    <thead>\n",
       "        <tr>\n",
       "            <th>Position</th> <th>Name mean</th> <th>Team mean</th> <th>Salary mean</th>\n",
       "        </tr>\n",
       "    </thead>\n",
       "    <tbody>\n",
       "        <tr>\n",
       "            <td>C       </td> <td>         </td> <td>         </td> <td>3.41948e+06</td>\n",
       "        </tr>\n",
       "        <tr>\n",
       "            <td>D       </td> <td>         </td> <td>         </td> <td>3.19945e+06</td>\n",
       "        </tr>\n",
       "        <tr>\n",
       "            <td>G       </td> <td>         </td> <td>         </td> <td>3.0182e+06 </td>\n",
       "        </tr>\n",
       "        <tr>\n",
       "            <td>LW      </td> <td>         </td> <td>         </td> <td>3.29887e+06</td>\n",
       "        </tr>\n",
       "        <tr>\n",
       "            <td>RW      </td> <td>         </td> <td>         </td> <td>3.02728e+06</td>\n",
       "        </tr>\n",
       "    </tbody>\n",
       "</table>"
      ],
      "text/plain": [
       "Position | Name mean | Team mean | Salary mean\n",
       "C        |           |           | 3.41948e+06\n",
       "D        |           |           | 3.19945e+06\n",
       "G        |           |           | 3.0182e+06\n",
       "LW       |           |           | 3.29887e+06\n",
       "RW       |           |           | 3.02728e+06"
      ]
     },
     "execution_count": 24,
     "metadata": {},
     "output_type": "execute_result"
    }
   ],
   "source": [
    "nhl.group('Position', np.mean)"
   ]
  }
 ],
 "metadata": {
  "kernelspec": {
   "display_name": "Python 3 (ipykernel)",
   "language": "python",
   "name": "python3"
  },
  "language_info": {
   "codemirror_mode": {
    "name": "ipython",
    "version": 3
   },
   "file_extension": ".py",
   "mimetype": "text/x-python",
   "name": "python",
   "nbconvert_exporter": "python",
   "pygments_lexer": "ipython3",
   "version": "3.12.0"
  }
 },
 "nbformat": 4,
 "nbformat_minor": 4
}